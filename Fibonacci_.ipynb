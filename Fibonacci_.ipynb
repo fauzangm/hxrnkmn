{
  "nbformat": 4,
  "nbformat_minor": 0,
  "metadata": {
    "colab": {
      "name": "Fibonacci .ipynb",
      "provenance": [],
      "collapsed_sections": [],
      "include_colab_link": true
    },
    "kernelspec": {
      "name": "python3",
      "display_name": "Python 3"
    },
    "language_info": {
      "name": "python"
    }
  },
  "cells": [
    {
      "cell_type": "markdown",
      "metadata": {
        "id": "view-in-github",
        "colab_type": "text"
      },
      "source": [
        "<a href=\"https://colab.research.google.com/github/fauzangm/hxrnkmn/blob/main/Fibonacci_.ipynb\" target=\"_parent\"><img src=\"https://colab.research.google.com/assets/colab-badge.svg\" alt=\"Open In Colab\"/></a>"
      ]
    },
    {
      "cell_type": "markdown",
      "source": [
        "# Fibonacci dengan C/C++\n"
      ],
      "metadata": {
        "id": "g8z6PTKWf55f"
      }
    },
    {
      "cell_type": "code",
      "execution_count": null,
      "metadata": {
        "colab": {
          "base_uri": "https://localhost:8080/"
        },
        "id": "ynI8Q7dBY20l",
        "outputId": "8dd41eef-bff2-4953-92db-4eedb582a585"
      },
      "outputs": [
        {
          "output_type": "stream",
          "name": "stdout",
          "text": [
            "Mounted at /content/drive\n"
          ]
        }
      ],
      "source": [
        "from google.colab import drive\n",
        "drive.mount('/content/drive')"
      ]
    },
    {
      "cell_type": "code",
      "source": [
        "import os\n",
        "os.chdir(\"/content/drive/My Drive\")\n",
        "path = \"#Pengajaran Genap 2021-2022/DAA To My Students/Project Ke-1\"\n",
        "if not os.path.exists(path):\n",
        "    os.makedirs(path)\n",
        "    os.chdir(\"/content/drive/My Drive/#Pengajaran Genap 2021-2022/DAA To My Students/Project Ke-1\")\n",
        "os.chdir(\"/content/drive/My Drive/#Pengajaran Genap 2021-2022/DAA To My Students/Project Ke-1\")\n",
        "\n",
        "!pwd\n",
        "!ls -l -a --block-size=K"
      ],
      "metadata": {
        "colab": {
          "base_uri": "https://localhost:8080/"
        },
        "id": "ABOqlmtRaZHW",
        "outputId": "59812557-ba8a-4351-f6c7-16292b4f1c2f"
      },
      "execution_count": null,
      "outputs": [
        {
          "output_type": "stream",
          "name": "stdout",
          "text": [
            "/content/drive/My Drive/#Pengajaran Genap 2021-2022/DAA To My Students/Project Ke-1\n",
            "total 30K\n",
            "-rw------- 1 root root  2K Mar 13 05:48 DAA2021.class\n",
            "-rw------- 1 root root  1K Mar 13 05:47 DAA2021.java\n",
            "-rw------- 1 root root 13K Mar 15 08:03 fibonacci\n",
            "-rw------- 1 root root  1K Mar 15 08:02 fibonacci.cpp\n",
            "-rw------- 1 root root  1K Mar 15 07:51 fibonacci.h\n",
            "-rw------- 1 root root  1K Mar 13 05:50 in_full.txt\n",
            "-rw------- 1 root root  1K Mar 13 05:49 in.txt\n",
            "-rw------- 1 root root  0K Mar 13 05:50 out_full.txt\n",
            "-rw------- 1 root root  0K Mar 13 05:49 out.txt\n",
            "-rw------- 1 root root  9K Mar 13 05:47 uniqueElement\n",
            "-rw------- 1 root root  1K Mar 13 05:47 uniqueElement.cpp\n",
            "-rw------- 1 root root  1K Mar 13 05:47 uniqueElement.h\n",
            "-rw------- 1 root root  2K Mar 13 05:48 uniqueElement.jar\n"
          ]
        }
      ]
    },
    {
      "cell_type": "code",
      "source": [
        "%%file fibonacci.h\n",
        "bool fibonacci(int n) {\n",
        "        for (int i = 0; i <= n; ++i) {\n",
        "            if(i == 0) \n",
        "            if(i == 1) {\n",
        "        return n; }\n",
        "//bagian atas ini base case fibonacci\n",
        "        }\n",
        "        return ((n-1) + (n-2));\n",
        "//bagian atas ini rekrusif case fibonacci\n",
        "}"
      ],
      "metadata": {
        "colab": {
          "base_uri": "https://localhost:8080/"
        },
        "id": "ytjsMxvB0Z8x",
        "outputId": "9d7c69b7-bccb-449b-93c3-7aced03d5bc0"
      },
      "execution_count": null,
      "outputs": [
        {
          "output_type": "stream",
          "name": "stdout",
          "text": [
            "Overwriting fibonacci.h\n"
          ]
        }
      ]
    },
    {
      "cell_type": "code",
      "source": [
        "%%file fibonacci.cpp\n",
        "#include <iostream>\n",
        "#include \"fibonacci.h\"\n",
        "\n",
        "int main() {\n",
        "    int t1 = 0, t2 = 1, nextTerm = 0, n = 701408733;\n",
        "    //n disini menunjukan kurang dari sama dengan angka fibonacci\n",
        "    std::cout << \"Enter a positive number:\"<< n <<\", \";\n",
        "    std::cin >> n;\n",
        "\n",
        "    // menampilkan dua suku pertama yang selalu 0 dan 1\n",
        "    std::cout << \"Fibonacci Series: \" << t1 << \", \" << t2 << \", \";\n",
        "\n",
        "    //ini adalah rumus yang dipakai menghitung fibonacci\n",
        "    nextTerm = t1 + t2;\n",
        "\n",
        "    while(nextTerm <= n) {\n",
        "        std::cout << nextTerm << \", \";\n",
        "        t1 = t2;\n",
        "        t2 = nextTerm;\n",
        "        nextTerm = t1 + t2;\n",
        "    }\n",
        "    return 0;\n",
        "}"
      ],
      "metadata": {
        "colab": {
          "base_uri": "https://localhost:8080/"
        },
        "id": "-_YKNz18pPS7",
        "outputId": "413c4297-add8-4f45-d958-a325961f521e"
      },
      "execution_count": null,
      "outputs": [
        {
          "output_type": "stream",
          "name": "stdout",
          "text": [
            "Overwriting fibonacci.cpp\n"
          ]
        }
      ]
    },
    {
      "cell_type": "code",
      "source": [
        "%%script bash\n",
        "g++ fibonacci.cpp fibonacci.h -std=c++11 -o fibonacci\n",
        "./fibonacci"
      ],
      "metadata": {
        "colab": {
          "base_uri": "https://localhost:8080/"
        },
        "id": "9Kk0tLPIprXq",
        "outputId": "8b2fbf89-5d10-4173-945c-d29c38e20bb1"
      },
      "execution_count": null,
      "outputs": [
        {
          "output_type": "stream",
          "name": "stdout",
          "text": [
            "Enter a positive number:701408733, Fibonacci Series: 0, 1, 1, 2, 3, 5, 8, 13, 21, 34, 55, 89, 144, 233, 377, 610, 987, 1597, 2584, 4181, 6765, 10946, 17711, 28657, 46368, 75025, 121393, 196418, 317811, 514229, 832040, 1346269, 2178309, 3524578, 5702887, 9227465, 14930352, 24157817, 39088169, 63245986, 102334155, 165580141, 267914296, 433494437, 701408733, "
          ]
        }
      ]
    }
  ]
}