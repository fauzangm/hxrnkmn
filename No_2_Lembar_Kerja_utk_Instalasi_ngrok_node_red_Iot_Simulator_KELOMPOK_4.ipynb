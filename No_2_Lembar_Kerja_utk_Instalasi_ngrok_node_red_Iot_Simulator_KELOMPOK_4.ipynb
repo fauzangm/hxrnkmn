{
  "cells": [
    {
      "cell_type": "markdown",
      "metadata": {
        "id": "view-in-github",
        "colab_type": "text"
      },
      "source": [
        "<a href=\"https://colab.research.google.com/github/fauzangm/hxrnkmn/blob/main/No_2_Lembar_Kerja_utk_Instalasi_ngrok_node_red_Iot_Simulator_KELOMPOK_4.ipynb\" target=\"_parent\"><img src=\"https://colab.research.google.com/assets/colab-badge.svg\" alt=\"Open In Colab\"/></a>"
      ]
    },
    {
      "cell_type": "markdown",
      "metadata": {
        "id": "dSDPkG1d3tdx"
      },
      "source": [
        "<p><img alt=\"Colaboratory logo\" height=\"45px\" src=\"/img/colab_favicon.ico\" align=\"left\" hspace=\"10px\" vspace=\"0px\"></p>\n",
        "\n",
        "<h1>Lembar Kerja, Filkom UB</h1>\n",
        "\n",
        "**************************************\n",
        "Dosen Pengampu: Imam Cholissodin, S.Si., M.Kom. | imamcs@ub.ac.id | Fakultas Ilmu Komputer (Filkom), Universitas Brawijaya (UB) | Semester Genap 2021/2022 | Dibuat pada 1 Feb. 2020 | 22 Agustus 2021 | 8 Feb. 2022\n",
        "\n",
        "Semoga Bermanfaat. Aamiin :D\n",
        "**************************************\n",
        "\n",
        "Kelompok 4 Kelas A, Anggota :\n",
        "1. Haidar Rheza Paleva, NIM = 205150300111067\n",
        "2. Fauzan Ghozi Mubarak, NIM = 205150301111006\n",
        "3. Ahmad Dhani Wafiy, NIM = 205150307111025\n",
        "4. Achmad Zidanal Khoiril Fatah, NIM = 205150307111035\n",
        "5. Satria Wahabi, NIM = 215150309111003"
      ]
    },
    {
      "cell_type": "code",
      "execution_count": null,
      "metadata": {
        "colab": {
          "base_uri": "https://localhost:8080/"
        },
        "id": "9ys0-VQgu9Kl",
        "outputId": "b31b7e38-914c-4e66-93b6-ba9ab2bcb078"
      },
      "outputs": [
        {
          "output_type": "stream",
          "name": "stdout",
          "text": [
            "Mounted at /content/drive\n"
          ]
        }
      ],
      "source": [
        "from google.colab import drive\n",
        "drive.mount('/content/drive')"
      ]
    },
    {
      "cell_type": "markdown",
      "metadata": {
        "id": "8vWP7f0DR75M"
      },
      "source": [
        "# Node JS SmartIot (Part 1 of 2)"
      ]
    },
    {
      "cell_type": "code",
      "execution_count": null,
      "metadata": {
        "colab": {
          "base_uri": "https://localhost:8080/"
        },
        "id": "SC8xlaGjmwWo",
        "outputId": "895d4a8b-f8f7-48f1-a57b-b226d69a11cb"
      },
      "outputs": [
        {
          "output_type": "stream",
          "name": "stdout",
          "text": [
            "/content/drive/My Drive/#Pengajaran Genap 2021-2022/DAA For Me/SmartIot\n",
            "total 9K\n",
            "-rw------- 1 root root 1K May 30 08:37 .env\n",
            "drwx------ 2 root root 4K Apr  9 05:48 iot-device-simulator-1-mqtt\n",
            "drwx------ 2 root root 4K Apr  9 05:48 node-red-contrib-mqtt-plus\n"
          ]
        }
      ],
      "source": [
        "import os\n",
        "from google.colab import output\n",
        "os.chdir(\"/content/drive/My Drive\")\n",
        "path = \"#Pengajaran Genap 2021-2022/DAA For Me/SmartIot\"\n",
        "if not os.path.exists(path):\n",
        "    os.makedirs(path)\n",
        "    os.chdir(\"/content/drive/My Drive/\"+path)\n",
        "    \n",
        "os.chdir(\"/content/drive/My Drive/\"+path)\n",
        "\n",
        "!pwd\n",
        "!ls -l -a --block-size=K"
      ]
    },
    {
      "cell_type": "code",
      "execution_count": null,
      "metadata": {
        "colab": {
          "base_uri": "https://localhost:8080/"
        },
        "id": "2HzLLeGxH4A_",
        "outputId": "ee31921e-8119-4546-e61b-336195862074"
      },
      "outputs": [
        {
          "output_type": "stream",
          "name": "stdout",
          "text": [
            "Overwriting .env\n"
          ]
        }
      ],
      "source": [
        "# Buatlah token dengan Sign-Up atau register ke htpps://dashboard.ngrok.com/auth dan https://flespi.io\n",
        "# get token dari keduanya, lalu masukkan pada kode di bawah ini, aktifkan kodenya lalu jalankan, lalu hide kembali token anda\n",
        "\n",
        "%%file .env\n",
        "NGROK_AUTH_TOKEN = '27gi6KBQHYkg9U2thap4V5iNYLa_3t5WB3dgjR6i5Aw1Y4YKG'\n",
        "TOKEN_flespi = 'IHjoOjaJiWw6dG6ghHjRxP6ZItEk0txyYFLCMJaUvuQz0ND5iLLFqHsX1W7Pgtc4'"
      ]
    },
    {
      "cell_type": "markdown",
      "metadata": {
        "id": "1Zo3jM5xa_Ez"
      },
      "source": [
        "#Run nodejs / npm pada Google Colab. untuk SmartIot (Part 2 of 2)"
      ]
    },
    {
      "cell_type": "code",
      "execution_count": null,
      "metadata": {
        "id": "rcqzom_K6e6C"
      },
      "outputs": [],
      "source": [
        "# Run nodejs / npm pada Colab.\n",
        "# ref: \n",
        "# [1] https://github.com/phyunsj/iot-device-simulator-1-mqtt\n",
        "# [2] https://stackoverflow.com/questions/63105093/nodejs-and-google-colab\n",
        "# [3] https://www.whatsmyip.org/\n",
        "# [4] https://www.youtube.com/watch?v=5lzkCEf6oq8\n",
        "# [5] https://github.com/node-red/node-red-dashboard\n",
        "# "
      ]
    },
    {
      "cell_type": "markdown",
      "metadata": {
        "id": "25Li3pIJbKVM"
      },
      "source": [
        "## 1. Clone resource dari github"
      ]
    },
    {
      "cell_type": "code",
      "execution_count": null,
      "metadata": {
        "id": "fHGIzVlU6BWx"
      },
      "outputs": [],
      "source": [
        "#Ref: https://github.com/phyunsj/iot-device-simulator-1-mqtt\n",
        "os.chdir(\"/content/drive/My Drive/\"+path)\n",
        "if not os.path.exists(\"./iot-sim\"):\n",
        "  !git clone https://github.com/phyunsj/iot-device-simulator-1-mqtt.git\n",
        "\n",
        "  # !mv iot-device-simulator-1-mqtt/ iot-sim/\n",
        "\n",
        "if not os.path.exists(\"./node-red-contrib-mqtt-plus\"):\n",
        "  !git clone https://github.com/btsimonh/node-red-contrib-mqtt-plus\n",
        "\n",
        "os.chdir(\"/content/drive/My Drive/\"+path)\n",
        "output.clear()"
      ]
    },
    {
      "cell_type": "markdown",
      "metadata": {
        "id": "MDc-zHHFbwpk"
      },
      "source": [
        "## 2. Install npm dan node-red serta dashboardnya"
      ]
    },
    {
      "cell_type": "code",
      "execution_count": null,
      "metadata": {
        "colab": {
          "base_uri": "https://localhost:8080/"
        },
        "id": "mUDrSbXqjcnG",
        "outputId": "e0820b58-d456-469a-f960-7316d3fd118d"
      },
      "outputs": [
        {
          "output_type": "stream",
          "name": "stdout",
          "text": [
            "6.14.8\n"
          ]
        }
      ],
      "source": [
        "!npm --version"
      ]
    },
    {
      "cell_type": "code",
      "execution_count": null,
      "metadata": {
        "colab": {
          "base_uri": "https://localhost:8080/"
        },
        "id": "ijxCaTzTYMgg",
        "outputId": "89aae9c5-fa4a-425c-d075-b37f60d5d7e1"
      },
      "outputs": [
        {
          "output_type": "stream",
          "name": "stdout",
          "text": [
            "\u001b[K\u001b[?25h\u001b[37;40mnpm\u001b[0m \u001b[0m\u001b[30;43mWARN\u001b[0m\u001b[35m\u001b[0m node-red-contrib-iot-simulator@0.0.1 No repository field.\n",
            "\u001b[0m\u001b[37;40mnpm\u001b[0m \u001b[0m\u001b[30;43mWARN\u001b[0m\u001b[35m\u001b[0m node-red-contrib-iot-simulator@0.0.1 No license field.\n",
            "\u001b[0m\n",
            "\u001b[K\u001b[?25haudited 55 packages in 10.038s\n",
            "found \u001b[92m0\u001b[0m vulnerabilities\n",
            "\n",
            "\u001b[K\u001b[?25h\u001b[37;40mnpm\u001b[0m \u001b[0m\u001b[30;43mWARN\u001b[0m\u001b[35m\u001b[0m node-red-contrib-iot-simulator@0.0.1 No repository field.\n",
            "\u001b[0m\u001b[37;40mnpm\u001b[0m \u001b[0m\u001b[30;43mWARN\u001b[0m\u001b[35m\u001b[0m node-red-contrib-iot-simulator@0.0.1 No license field.\n",
            "\u001b[0m\n",
            "up to date in 0.66s\n",
            "fixed 0 of 0 vulnerabilities in 55 scanned packages\n",
            "\n",
            "\u001b[33m\u001b[39m\n",
            "\u001b[33m   ╭────────────────────────────────────────────────────────────────╮\u001b[39m\n",
            "   \u001b[33m│\u001b[39m                                                                \u001b[33m│\u001b[39m\n",
            "   \u001b[33m│\u001b[39m      New \u001b[31mmajor\u001b[39m version of npm available! \u001b[31m6.14.8\u001b[39m → \u001b[32m8.11.0\u001b[39m       \u001b[33m│\u001b[39m\n",
            "   \u001b[33m│\u001b[39m   \u001b[33mChangelog:\u001b[39m \u001b[36mhttps://github.com/npm/cli/releases/tag/v8.11.0\u001b[39m   \u001b[33m│\u001b[39m\n",
            "   \u001b[33m│\u001b[39m               Run \u001b[32mnpm install -g npm\u001b[39m to update!                \u001b[33m│\u001b[39m\n",
            "   \u001b[33m│\u001b[39m                                                                \u001b[33m│\u001b[39m\n",
            "\u001b[33m   ╰────────────────────────────────────────────────────────────────╯\u001b[39m\n",
            "\u001b[33m\u001b[39m\n",
            "\u001b[37;40mnpm\u001b[0m \u001b[0m\u001b[30;43mWARN\u001b[0m \u001b[0m\u001b[35musing --force\u001b[0m I sure hope you know what you are doing.\n",
            "\u001b[K\u001b[?25h\u001b[37;40mnpm\u001b[0m \u001b[0m\u001b[30;43mWARN\u001b[0m\u001b[35m\u001b[0m node-red-contrib-iot-simulator@0.0.1 No repository field.\n",
            "\u001b[0m\u001b[37;40mnpm\u001b[0m \u001b[0m\u001b[30;43mWARN\u001b[0m\u001b[35m\u001b[0m node-red-contrib-iot-simulator@0.0.1 No license field.\n",
            "\u001b[0m\n",
            "up to date in 0.608s\n",
            "fixed 0 of 0 vulnerabilities in 55 scanned packages\n",
            "\u001b[K\u001b[?25h\u001b[37;40mnpm\u001b[0m \u001b[0m\u001b[30;43mWARN\u001b[0m\u001b[35m\u001b[0m node-red-contrib-iot-simulator@0.0.1 No repository field.\n",
            "\u001b[0m\u001b[37;40mnpm\u001b[0m \u001b[0m\u001b[30;43mWARN\u001b[0m\u001b[35m\u001b[0m node-red-contrib-iot-simulator@0.0.1 No license field.\n",
            "\u001b[0m\n",
            "\u001b[K\u001b[?25haudited 55 packages in 0.848s\n",
            "found \u001b[92m0\u001b[0m vulnerabilities\n",
            "\n",
            "\u001b[K\u001b[?25h\u001b[37;40mnpm\u001b[0m \u001b[0m\u001b[30;43mWARN\u001b[0m\u001b[35m\u001b[0m node-red-contrib-iot-simulator@0.0.1 No repository field.\n",
            "\u001b[0m\u001b[37;40mnpm\u001b[0m \u001b[0m\u001b[30;43mWARN\u001b[0m\u001b[35m\u001b[0m node-red-contrib-iot-simulator@0.0.1 No license field.\n",
            "\u001b[0m\n",
            "+ https-proxy-agent@5.0.1\n",
            "updated 1 package and audited 55 packages in 1.23s\n",
            "found \u001b[92m0\u001b[0m vulnerabilities\n",
            "\n",
            "\u001b[K\u001b[?25h\u001b[37;40mnpm\u001b[0m \u001b[0m\u001b[30;43mWARN\u001b[0m \u001b[0m\u001b[35mdeprecated\u001b[0m multer@1.4.4: Multer 1.x is affected by CVE-2022-24434. This is fixed in v1.4.4-lts.1 which drops support for versions of Node.js before 6. Please upgrade to at least Node.js 6 and version 1.4.4-lts.1 of Multer. If you need support for older versions of Node.js, we are open to accepting patches that would fix the CVE on the main 1.x release line, whilst maintaining compatibility with Node.js 0.10.\n",
            "\u001b[K\u001b[?25h\u001b[37;40mnpm\u001b[0m \u001b[0m\u001b[30;43mWARN\u001b[0m \u001b[0m\u001b[35mdeprecated\u001b[0m axios@0.27.0: Formdata complete broken, incorrect build size\n",
            "\u001b[K\u001b[?25h/tools/node/bin/node-red -> /tools/node/lib/node_modules/node-red/red.js\n",
            "/tools/node/bin/node-red-pi -> /tools/node/lib/node_modules/node-red/bin/node-red-pi\n",
            "\u001b[K\u001b[?25h\n",
            "> bcrypt@5.0.1 install /tools/node/lib/node_modules/node-red/node_modules/bcrypt\n",
            "> node-pre-gyp install --fallback-to-build\n",
            "\n",
            "[bcrypt] Success: \"/tools/node/lib/node_modules/node-red/node_modules/bcrypt/lib/binding/napi-v3/bcrypt_lib.node\" is installed via remote\n",
            "\u001b[K\u001b[?25h+ node-red@2.2.2\n",
            "added 293 packages from 376 contributors in 18.629s\n",
            "\u001b[K\u001b[?25h\u001b[37;40mnpm\u001b[0m \u001b[0m\u001b[30;43mWARN\u001b[0m\u001b[35m\u001b[0m node-red-contrib-iot-simulator@0.0.1 No repository field.\n",
            "\u001b[0m\u001b[37;40mnpm\u001b[0m \u001b[0m\u001b[30;43mWARN\u001b[0m\u001b[35m\u001b[0m node-red-contrib-iot-simulator@0.0.1 No license field.\n",
            "\u001b[0m\n",
            "+ node-red-dashboard@3.1.7\n",
            "updated 1 package and audited 55 packages in 5.193s\n",
            "found \u001b[92m0\u001b[0m vulnerabilities\n",
            "\n"
          ]
        }
      ],
      "source": [
        "os.chdir(\"/content/drive/My Drive/\"+path+\"/iot-device-simulator-1-mqtt/node-red-contrib-iot-simulator\")\n",
        "!npm i --package-lock-only\n",
        "!npm audit fix\n",
        "!npm audit fix --force\n",
        "!npm install\n",
        "# !npm install ./\n",
        "!npm install https-proxy-agent\n",
        "!npm install -g --unsafe-perm node-red\n",
        "!npm install node-red-dashboard\n",
        "\n",
        "# output.clear()"
      ]
    },
    {
      "cell_type": "code",
      "execution_count": null,
      "metadata": {
        "colab": {
          "base_uri": "https://localhost:8080/"
        },
        "id": "PtjycyKxYSoR",
        "outputId": "b7935dc4-f6c3-4590-8705-ee420159e0e4"
      },
      "outputs": [
        {
          "output_type": "stream",
          "name": "stdout",
          "text": [
            "30 May 13:25:46 - [info] \n",
            "\n",
            "Welcome to Node-RED\n",
            "===================\n",
            "\n",
            "30 May 13:25:46 - [info] Node-RED version: v2.2.2\n",
            "30 May 13:25:46 - [info] Node.js  version: v14.16.0\n",
            "30 May 13:25:46 - [info] Linux 5.4.188+ x64 LE\n",
            "30 May 13:25:46 - [info] Loading palette nodes\n",
            "30 May 13:25:47 - [info] Settings file  : /root/.node-red/settings.js\n",
            "30 May 13:25:47 - [info] Context store  : 'default' [module=memory]\n",
            "30 May 13:25:47 - [info] User directory : /root/.node-red\n",
            "30 May 13:25:47 - [warn] Projects disabled : editorTheme.projects.enabled=false\n",
            "30 May 13:25:47 - [info] Flows file     : /root/.node-red/stop\n",
            "30 May 13:25:47 - [info] Creating new flow file\n",
            "30 May 13:25:47 - [warn] \n",
            "\n",
            "---------------------------------------------------------------------\n",
            "Your flow credentials file is encrypted using a system-generated key.\n",
            "\n",
            "If the system-generated key is lost for any reason, your credentials\n",
            "file will not be recoverable, you will have to delete it and re-enter\n",
            "your credentials.\n",
            "\n",
            "You should set your own key using the 'credentialSecret' option in\n",
            "your settings file. Node-RED will then re-encrypt your credentials\n",
            "file using your chosen key the next time you deploy a change.\n",
            "---------------------------------------------------------------------\n",
            "\n",
            "30 May 13:25:47 - [info] Server now running at http://127.0.0.1:1880/\n",
            "30 May 13:25:47 - [info] Starting flows\n",
            "30 May 13:25:47 - [info] Started flows\n",
            "30 May 13:26:03 - [info] Stopping flows\n",
            "30 May 13:26:03 - [info] Stopped flows\n"
          ]
        }
      ],
      "source": [
        "!node-red stop # jalankan sampai muncul link locahost-nya, lalu stop cell-nya"
      ]
    },
    {
      "cell_type": "code",
      "execution_count": null,
      "metadata": {
        "colab": {
          "base_uri": "https://localhost:8080/"
        },
        "id": "QjYF_WpPkv2m",
        "outputId": "bda6529b-2d72-4490-f09b-8a4dc589b292"
      },
      "outputs": [
        {
          "output_type": "stream",
          "name": "stdout",
          "text": [
            "\u001b[K\u001b[?25haudited 97 packages in 14.979s\n",
            "\n",
            "5 packages are looking for funding\n",
            "  run `npm fund` for details\n",
            "\n",
            "found \u001b[92m0\u001b[0m vulnerabilities\n",
            "\n",
            "\u001b[K\u001b[?25hup to date in 1.001s\n",
            "\n",
            "5 packages are looking for funding\n",
            "  run `npm fund` for details\n",
            "\n",
            "fixed 0 of 0 vulnerabilities in 97 scanned packages\n",
            "\u001b[37;40mnpm\u001b[0m \u001b[0m\u001b[30;43mWARN\u001b[0m \u001b[0m\u001b[35musing --force\u001b[0m I sure hope you know what you are doing.\n",
            "\u001b[K\u001b[?25hup to date in 1.026s\n",
            "\n",
            "5 packages are looking for funding\n",
            "  run `npm fund` for details\n",
            "\n",
            "fixed 0 of 0 vulnerabilities in 97 scanned packages\n",
            "\u001b[K\u001b[?25haudited 97 packages in 1.301s\n",
            "\n",
            "5 packages are looking for funding\n",
            "  run `npm fund` for details\n",
            "\n",
            "found \u001b[92m0\u001b[0m vulnerabilities\n",
            "\n",
            "\u001b[K\u001b[?25h+ https-proxy-agent@5.0.1\n",
            "updated 1 package and audited 97 packages in 1.516s\n",
            "\n",
            "5 packages are looking for funding\n",
            "  run `npm fund` for details\n",
            "\n",
            "found \u001b[92m0\u001b[0m vulnerabilities\n",
            "\n",
            "\u001b[K\u001b[?25h\u001b[37;40mnpm\u001b[0m \u001b[0m\u001b[30;43mWARN\u001b[0m \u001b[0m\u001b[35mdeprecated\u001b[0m multer@1.4.4: Multer 1.x is affected by CVE-2022-24434. This is fixed in v1.4.4-lts.1 which drops support for versions of Node.js before 6. Please upgrade to at least Node.js 6 and version 1.4.4-lts.1 of Multer. If you need support for older versions of Node.js, we are open to accepting patches that would fix the CVE on the main 1.x release line, whilst maintaining compatibility with Node.js 0.10.\n",
            "\u001b[K\u001b[?25h\u001b[37;40mnpm\u001b[0m \u001b[0m\u001b[30;43mWARN\u001b[0m \u001b[0m\u001b[35mdeprecated\u001b[0m axios@0.27.0: Formdata complete broken, incorrect build size\n",
            "\u001b[K\u001b[?25h/tools/node/bin/node-red -> /tools/node/lib/node_modules/node-red/red.js\n",
            "/tools/node/bin/node-red-pi -> /tools/node/lib/node_modules/node-red/bin/node-red-pi\n",
            "+ node-red@2.2.2\n",
            "updated 1 package in 5.435s\n",
            "\u001b[K\u001b[?25h+ node-red-dashboard@3.1.7\n",
            "updated 1 package and audited 97 packages in 3.96s\n",
            "\n",
            "5 packages are looking for funding\n",
            "  run `npm fund` for details\n",
            "\n",
            "found \u001b[92m0\u001b[0m vulnerabilities\n",
            "\n",
            "\u001b[K\u001b[?25h"
          ]
        }
      ],
      "source": [
        "os.chdir(\"/content/drive/My Drive/\"+path+\"/node-red-contrib-mqtt-plus\")\n",
        "!npm i --package-lock-only\n",
        "!npm audit fix\n",
        "!npm audit fix --force\n",
        "!npm install\n",
        "# !npm install ./\n",
        "!npm install https-proxy-agent\n",
        "!npm install -g --unsafe-perm node-red\n",
        "!npm install node-red-dashboard\n",
        "\n",
        "# output.clear()"
      ]
    },
    {
      "cell_type": "code",
      "execution_count": null,
      "metadata": {
        "colab": {
          "base_uri": "https://localhost:8080/"
        },
        "id": "icCQDM-ceDdg",
        "outputId": "476744bb-e3a3-4ef0-be64-cabdee47a004"
      },
      "outputs": [
        {
          "output_type": "stream",
          "name": "stdout",
          "text": [
            "\u001b[K\u001b[?25h\u001b[37;40mnpm\u001b[0m \u001b[0m\u001b[34;40mnotice\u001b[0m\u001b[35m\u001b[0m created a lockfile as package-lock.json. You should commit this file.\n",
            "\u001b[0m+ node-red-dashboard@3.1.7\n",
            "added 55 packages from 99 contributors and audited 55 packages in 1.693s\n",
            "found \u001b[92m0\u001b[0m vulnerabilities\n",
            "\n",
            "\u001b[K\u001b[?25h"
          ]
        }
      ],
      "source": [
        "os.chdir(\"/\")\n",
        "os.chdir(\"/root/.node-red\")\n",
        "!npm install node-red-dashboard"
      ]
    },
    {
      "cell_type": "code",
      "execution_count": null,
      "metadata": {
        "colab": {
          "base_uri": "https://localhost:8080/"
        },
        "id": "RKMk6KQNpPcG",
        "outputId": "563c6ae2-d36a-4496-e13c-c2be89ca3624"
      },
      "outputs": [
        {
          "output_type": "stream",
          "name": "stdout",
          "text": [
            "30 May 13:26:50 - [info] \n",
            "\n",
            "Welcome to Node-RED\n",
            "===================\n",
            "\n",
            "30 May 13:26:50 - [info] Node-RED version: v2.2.2\n",
            "30 May 13:26:50 - [info] Node.js  version: v14.16.0\n",
            "30 May 13:26:50 - [info] Linux 5.4.188+ x64 LE\n",
            "30 May 13:26:51 - [info] Loading palette nodes\n",
            "30 May 13:26:51 - [info] Dashboard version 3.1.7 started at /ui\n",
            "30 May 13:26:51 - [info] Settings file  : /root/.node-red/settings.js\n",
            "30 May 13:26:51 - [info] Context store  : 'default' [module=memory]\n",
            "30 May 13:26:51 - [info] User directory : /root/.node-red\n",
            "30 May 13:26:51 - [warn] Projects disabled : editorTheme.projects.enabled=false\n",
            "30 May 13:26:51 - [info] Flows file     : /root/.node-red/stop\n",
            "30 May 13:26:51 - [info] Creating new flow file\n",
            "30 May 13:26:51 - [warn] \n",
            "\n",
            "---------------------------------------------------------------------\n",
            "Your flow credentials file is encrypted using a system-generated key.\n",
            "\n",
            "If the system-generated key is lost for any reason, your credentials\n",
            "file will not be recoverable, you will have to delete it and re-enter\n",
            "your credentials.\n",
            "\n",
            "You should set your own key using the 'credentialSecret' option in\n",
            "your settings file. Node-RED will then re-encrypt your credentials\n",
            "file using your chosen key the next time you deploy a change.\n",
            "---------------------------------------------------------------------\n",
            "\n",
            "30 May 13:26:51 - [info] Server now running at http://127.0.0.1:1880/\n",
            "30 May 13:26:51 - [info] Starting flows\n",
            "30 May 13:26:51 - [info] Started flows\n",
            "30 May 13:26:55 - [info] Stopping flows\n",
            "30 May 13:26:55 - [info] Stopped flows\n"
          ]
        }
      ],
      "source": [
        "!node-red stop # jalankan sampai muncul link locahost-nya, lalu stop cell-nya"
      ]
    },
    {
      "cell_type": "markdown",
      "metadata": {
        "id": "j773v07CcWVd"
      },
      "source": [
        "## 3. Install node tambahan, yaitu output \"IoT Simulator\" pada node-red\n",
        "\n"
      ]
    },
    {
      "cell_type": "code",
      "execution_count": null,
      "metadata": {
        "id": "t9N3ypS8cZ2g"
      },
      "outputs": [],
      "source": [
        "# Install mqtt-plus (MQTT over websocket)\n",
        "os.chdir(\"/\")\n",
        "os.chdir(\"/root/.node-red\")\n",
        "!npm install '/content/drive/MyDrive/#Pengajaran Genap 2021-2022/DAA For Me/SmartIot/iot-device-simulator-1-mqtt/node-red-contrib-iot-simulator'\n",
        "!npm install '/content/drive/MyDrive/#Pengajaran Genap 2021-2022/DAA For Me/SmartIot/node-red-contrib-mqtt-plus'\n",
        "os.chdir(\"/content/drive/My Drive/\"+path)\n",
        "output.clear()"
      ]
    },
    {
      "cell_type": "markdown",
      "metadata": {
        "id": "Y7aO-Qwj0kqu"
      },
      "source": [
        "## 4. Run \"IoT Simulator + flespi MQTT Broker\" dgn tunnel"
      ]
    },
    {
      "cell_type": "code",
      "execution_count": null,
      "metadata": {
        "id": "L__sBh3oM2bP"
      },
      "outputs": [],
      "source": [
        "!pip install python-decouple\n",
        "!pip install pyngrok --quiet\n",
        "output.clear()"
      ]
    },
    {
      "cell_type": "code",
      "execution_count": null,
      "metadata": {
        "id": "Yf19bX6efjwz"
      },
      "outputs": [],
      "source": [
        "# get token yang dihiden dalam file *.env \n",
        "from decouple import config\n",
        "\n",
        "TOKEN_flespi = config('TOKEN_flespi',default='')\n",
        "NGROK_AUTH_TOKEN = config('NGROK_AUTH_TOKEN',default='')\n",
        "# print(TOKEN_flespi,\" \",NGROK_AUTH_TOKEN)"
      ]
    },
    {
      "cell_type": "code",
      "execution_count": null,
      "metadata": {
        "id": "ciwArJ_we9T2"
      },
      "outputs": [],
      "source": [
        "# jika tidak jalan, coba ganti port-nya\n",
        "get_ipython().system_raw('node-red --ip=0.0.0.0 --port=8083 &')"
      ]
    },
    {
      "cell_type": "code",
      "execution_count": null,
      "metadata": {
        "colab": {
          "base_uri": "https://localhost:8080/"
        },
        "id": "b0Fck-mYfAq7",
        "outputId": "463b1535-e1f6-4c3a-9922-335c9a304075"
      },
      "outputs": [
        {
          "output_type": "execute_result",
          "data": {
            "text/plain": [
              "<NgrokTunnel: \"http://a913-35-237-180-123.ngrok.io\" -> \"http://localhost:8082\">"
            ]
          },
          "metadata": {},
          "execution_count": 18
        }
      ],
      "source": [
        "from pyngrok import ngrok\n",
        "\n",
        "#terminate open tunnels if exist\n",
        "ngrok.kill()\n",
        "\n",
        "#Setting the authtoken (optional)\n",
        "#Get your authtoken from htpps://dashboard.ngrok.com/auth\n",
        "# NGROK_AUTH_TOKEN = \"\"\n",
        "ngrok.set_auth_token(NGROK_AUTH_TOKEN)\n",
        "ngrok.connect(8082)"
      ]
    },
    {
      "cell_type": "markdown",
      "metadata": {
        "id": "mtK7TCTHf1BT"
      },
      "source": [
        "# Hi All Great Students"
      ]
    },
    {
      "cell_type": "markdown",
      "metadata": {
        "id": "UUvpFcJx7t2M"
      },
      "source": [
        "Semoga Sukses. Aamiin. :D\n",
        "![]( https://docs.google.com/uc?export=download&id=1vJNmuncRehLc3WCZkFYCU6rRMVTy-w0k)"
      ]
    }
  ],
  "metadata": {
    "colab": {
      "collapsed_sections": [],
      "name": "No.2 - Lembar_Kerja_utk_Instalasi_ngrok_node_red_Iot_Simulator_KELOMPOK 4.ipynb",
      "provenance": [],
      "include_colab_link": true
    },
    "kernelspec": {
      "display_name": "Python 3",
      "language": "python",
      "name": "python3"
    },
    "language_info": {
      "codemirror_mode": {
        "name": "ipython",
        "version": 3
      },
      "file_extension": ".py",
      "mimetype": "text/x-python",
      "name": "python",
      "nbconvert_exporter": "python",
      "pygments_lexer": "ipython3",
      "version": "3.6.9"
    }
  },
  "nbformat": 4,
  "nbformat_minor": 0
}